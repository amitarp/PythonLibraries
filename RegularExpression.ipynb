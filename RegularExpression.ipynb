{
 "cells": [
  {
   "cell_type": "code",
   "execution_count": 1,
   "id": "14f08c0c",
   "metadata": {},
   "outputs": [],
   "source": [
    "import re"
   ]
  },
  {
   "cell_type": "code",
   "execution_count": 2,
   "id": "0db847e4",
   "metadata": {},
   "outputs": [],
   "source": [
    "testString = '123abc456789abc123ABCabc'"
   ]
  },
  {
   "cell_type": "code",
   "execution_count": 3,
   "id": "9aa3d6b5",
   "metadata": {},
   "outputs": [
    {
     "data": {
      "text/plain": [
       "'Performing matches with compiled objects\\nOnce we have our pattern, we can search for this pattern in the text / string that we want to look up.\\n\\nmatch(): Determine if the RE matches at the beginning of the string.\\nsearch(): Scan through a string, looking for any location where this RE matches.\\nfindall(): Find all substrings where the RE matches, and returns them as a list.\\nfinditer(): Find all substrings where the RE matches, and returns them as an iterator.'"
      ]
     },
     "execution_count": 3,
     "metadata": {},
     "output_type": "execute_result"
    }
   ],
   "source": [
    "\"\"\"Performing matches with compiled objects\n",
    "Once we have our pattern, we can search for this pattern in the text / string that we want to look up.\n",
    "\n",
    "match(): Determine if the RE matches at the beginning of the string.\n",
    "search(): Scan through a string, looking for any location where this RE matches.\n",
    "findall(): Find all substrings where the RE matches, and returns them as a list.\n",
    "finditer(): Find all substrings where the RE matches, and returns them as an iterator.\"\"\""
   ]
  },
  {
   "cell_type": "markdown",
   "id": "a53ee89f",
   "metadata": {},
   "source": [
    "# Performing matches with compiled objects"
   ]
  },
  {
   "cell_type": "code",
   "execution_count": 4,
   "id": "3dcfc12d",
   "metadata": {},
   "outputs": [],
   "source": [
    "#defining the pattern and be default case sensitive\n",
    "pattern=re.compile(r'abc')\n",
    "#matches=pattern.finditer(testString)"
   ]
  },
  {
   "cell_type": "code",
   "execution_count": 5,
   "id": "d2245610",
   "metadata": {},
   "outputs": [
    {
     "data": {
      "text/plain": [
       "'for match in matches:\\n    print(match)'"
      ]
     },
     "execution_count": 5,
     "metadata": {},
     "output_type": "execute_result"
    }
   ],
   "source": [
    "'''for match in matches:\n",
    "    print(match)'''"
   ]
  },
  {
   "cell_type": "code",
   "execution_count": 6,
   "id": "2b6c5eef",
   "metadata": {},
   "outputs": [
    {
     "name": "stdout",
     "output_type": "stream",
     "text": [
      "None\n"
     ]
    }
   ],
   "source": [
    "print(pattern.match(testString))"
   ]
  },
  {
   "cell_type": "code",
   "execution_count": 7,
   "id": "d3143c62",
   "metadata": {},
   "outputs": [
    {
     "name": "stdout",
     "output_type": "stream",
     "text": [
      "<re.Match object; span=(3, 6), match='abc'>\n"
     ]
    }
   ],
   "source": [
    "print(pattern.search(testString))"
   ]
  },
  {
   "cell_type": "code",
   "execution_count": 8,
   "id": "91790e2d",
   "metadata": {},
   "outputs": [
    {
     "name": "stdout",
     "output_type": "stream",
     "text": [
      "['abc', 'abc', 'abc']\n"
     ]
    }
   ],
   "source": [
    "print(pattern.findall(testString))"
   ]
  },
  {
   "cell_type": "code",
   "execution_count": 9,
   "id": "b50c7849",
   "metadata": {},
   "outputs": [],
   "source": [
    "matches=pattern.finditer(testString)"
   ]
  },
  {
   "cell_type": "markdown",
   "id": "2ce2229d",
   "metadata": {},
   "source": [
    "# Modification methods"
   ]
  },
  {
   "cell_type": "code",
   "execution_count": 10,
   "id": "9573d809",
   "metadata": {},
   "outputs": [
    {
     "name": "stdout",
     "output_type": "stream",
     "text": [
      "hey\n",
      "hi there\n",
      "1............................\n",
      "<re.Match object; span=(3, 6), match='abc'>\n",
      "3 6 (3, 6)\n",
      "group: abc\n",
      "hi there\n",
      "2............................\n",
      "<re.Match object; span=(12, 15), match='abc'>\n",
      "12 15 (12, 15)\n",
      "group: abc\n",
      "hi there\n",
      "3............................\n",
      "<re.Match object; span=(21, 24), match='abc'>\n",
      "21 24 (21, 24)\n",
      "group: abc\n",
      "heu\n"
     ]
    }
   ],
   "source": [
    "count=1\n",
    "print('hey')\n",
    "for match in matches:\n",
    "    print('hi there')\n",
    "    print(str(count)+\"............................\")\n",
    "    count+=1\n",
    "    print(match)\n",
    "    print(match.start(),match.end(),match.span())\n",
    "    print('group: '+match.group())\n",
    "print('heu')"
   ]
  },
  {
   "cell_type": "code",
   "execution_count": 11,
   "id": "3b6a8311",
   "metadata": {},
   "outputs": [
    {
     "data": {
      "text/plain": [
       "'Methods on a match object\\n\\ngroup(): Return the string matched by the RE\\nstart(): Return the starting position of the match\\nend(): Return the ending position of the match\\nspan(): Return a tuple containing the (start, end) positions of the match\\n'"
      ]
     },
     "execution_count": 11,
     "metadata": {},
     "output_type": "execute_result"
    }
   ],
   "source": [
    "\"\"\"Methods on a match object\n",
    "\n",
    "group(): Return the string matched by the RE\n",
    "start(): Return the starting position of the match\n",
    "end(): Return the ending position of the match\n",
    "span(): Return a tuple containing the (start, end) positions of the match\n",
    "\"\"\""
   ]
  },
  {
   "cell_type": "markdown",
   "id": "6fb31a9a",
   "metadata": {},
   "source": [
    "# Meta characters"
   ]
  },
  {
   "cell_type": "code",
   "execution_count": 12,
   "id": "251dc9a7",
   "metadata": {},
   "outputs": [
    {
     "data": {
      "text/plain": [
       "'Meta Characters:\\n\\n. Any character (except newline character) \"he..o\"\\n^ Starts with \"^hello\"\\n$ Ends with \"world$\"\\n* Zero or more occurrences \"aix*\"\\n+ One or more occurrences \"aix+\"\\n{ } Exactly the specified number of occurrences \"al{2}\"\\n[] A set of characters \"[a-m]\"\\n\\\\ Signals a special sequence (can also be used to escape special characters) \"\\\\d\"\\n| Either or \"falls|stays\"\\n( ) Capture and group\\n\\\\d :Matches any decimal digit; this is equivalent to the class [0-9].\\n\\\\D : Matches any non-digit character; this is equivalent to the class [^0-9].\\n\\\\s : Matches any whitespace character;\\n\\\\S : Matches any non-whitespace character;\\n\\\\w : Matches any alphanumeric (word) character; this is equivalent to the class [a-zA-Z0-9_].\\n\\\\W : Matches any non-alphanumeric character; this is equivalent to the class [^a-zA-Z0-9_].\\n\\x08 Returns a match where the specified characters are at the beginning or at the end of a word r\"\\x08ain\" r\"ain\\x08\"\\n\\\\B Returns a match where the specified characters are present, but NOT at the beginning (or at the end) of a word r\"\\\\Bain\" r\"ain\\\\B\"\\n\\\\A Returns a match if the specified characters are at the beginning of the string \"\\\\AThe\"\\n\\\\Z Returns a match if the specified characters are at the end of the string \"Spain\\\\Z\"\\n'"
      ]
     },
     "execution_count": 12,
     "metadata": {},
     "output_type": "execute_result"
    }
   ],
   "source": [
    "'''Meta Characters:\n",
    "\n",
    ". Any character (except newline character) \"he..o\"\n",
    "^ Starts with \"^hello\"\n",
    "$ Ends with \"world$\"\n",
    "* Zero or more occurrences \"aix*\"\n",
    "+ One or more occurrences \"aix+\"\n",
    "{ } Exactly the specified number of occurrences \"al{2}\"\n",
    "[] A set of characters \"[a-m]\"\n",
    "\\ Signals a special sequence (can also be used to escape special characters) \"\\d\"\n",
    "| Either or \"falls|stays\"\n",
    "( ) Capture and group\n",
    "\\d :Matches any decimal digit; this is equivalent to the class [0-9].\n",
    "\\D : Matches any non-digit character; this is equivalent to the class [^0-9].\n",
    "\\s : Matches any whitespace character;\n",
    "\\S : Matches any non-whitespace character;\n",
    "\\w : Matches any alphanumeric (word) character; this is equivalent to the class [a-zA-Z0-9_].\n",
    "\\W : Matches any non-alphanumeric character; this is equivalent to the class [^a-zA-Z0-9_].\n",
    "\\b Returns a match where the specified characters are at the beginning or at the end of a word r\"\\bain\" r\"ain\\b\"\n",
    "\\B Returns a match where the specified characters are present, but NOT at the beginning (or at the end) of a word r\"\\Bain\" r\"ain\\B\"\n",
    "\\A Returns a match if the specified characters are at the beginning of the string \"\\AThe\"\n",
    "\\Z Returns a match if the specified characters are at the end of the string \"Spain\\Z\"\n",
    "'''"
   ]
  },
  {
   "cell_type": "code",
   "execution_count": 13,
   "id": "64aa429a",
   "metadata": {},
   "outputs": [
    {
     "name": "stdout",
     "output_type": "stream",
     "text": [
      "<re.Match object; span=(0, 1), match='1'>\n",
      "<re.Match object; span=(1, 2), match='2'>\n",
      "<re.Match object; span=(2, 3), match='3'>\n",
      "<re.Match object; span=(6, 7), match='4'>\n",
      "<re.Match object; span=(7, 8), match='5'>\n",
      "<re.Match object; span=(8, 9), match='6'>\n",
      "<re.Match object; span=(9, 10), match='7'>\n",
      "<re.Match object; span=(10, 11), match='8'>\n",
      "<re.Match object; span=(11, 12), match='9'>\n",
      "<re.Match object; span=(15, 16), match='1'>\n",
      "<re.Match object; span=(16, 17), match='2'>\n",
      "<re.Match object; span=(17, 18), match='3'>\n"
     ]
    }
   ],
   "source": [
    "#for matching numbers\n",
    "pattern = re.compile(r'\\d')\n",
    "matches = pattern.finditer(testString)\n",
    "for match in matches:\n",
    "    print(match)"
   ]
  },
  {
   "cell_type": "code",
   "execution_count": 14,
   "id": "44fee27e",
   "metadata": {},
   "outputs": [
    {
     "name": "stdout",
     "output_type": "stream",
     "text": [
      "<re.Match object; span=(0, 1), match='1'>\n",
      "<re.Match object; span=(1, 2), match='2'>\n",
      "<re.Match object; span=(2, 3), match='3'>\n",
      "<re.Match object; span=(3, 4), match='a'>\n",
      "<re.Match object; span=(4, 5), match='b'>\n",
      "<re.Match object; span=(5, 6), match='c'>\n",
      "<re.Match object; span=(6, 7), match='4'>\n",
      "<re.Match object; span=(7, 8), match='5'>\n",
      "<re.Match object; span=(8, 9), match='6'>\n",
      "<re.Match object; span=(9, 10), match='7'>\n",
      "<re.Match object; span=(10, 11), match='8'>\n",
      "<re.Match object; span=(11, 12), match='9'>\n",
      "<re.Match object; span=(12, 13), match='a'>\n",
      "<re.Match object; span=(13, 14), match='b'>\n",
      "<re.Match object; span=(14, 15), match='c'>\n",
      "<re.Match object; span=(15, 16), match='1'>\n",
      "<re.Match object; span=(16, 17), match='2'>\n",
      "<re.Match object; span=(17, 18), match='3'>\n",
      "<re.Match object; span=(18, 19), match='A'>\n",
      "<re.Match object; span=(19, 20), match='B'>\n",
      "<re.Match object; span=(20, 21), match='C'>\n",
      "<re.Match object; span=(21, 22), match='a'>\n",
      "<re.Match object; span=(22, 23), match='b'>\n",
      "<re.Match object; span=(23, 24), match='c'>\n"
     ]
    }
   ],
   "source": [
    "#for matching alpha numeric values\n",
    "pattern = re.compile(r'\\w')\n",
    "matches = pattern.finditer(testString)\n",
    "for match in matches:\n",
    "    print(match)"
   ]
  },
  {
   "cell_type": "code",
   "execution_count": 15,
   "id": "46ab4c0d",
   "metadata": {},
   "outputs": [
    {
     "name": "stdout",
     "output_type": "stream",
     "text": [
      "<re.Match object; span=(0, 3), match='hey'>\n"
     ]
    }
   ],
   "source": [
    "pattern = re.compile(r'\\bhey')\n",
    "matches = pattern.finditer('heyho hohey') # ho-hey, ho\\nhey are matches!\n",
    "for match in matches:\n",
    "    print(match)"
   ]
  },
  {
   "cell_type": "code",
   "execution_count": 16,
   "id": "201078a9",
   "metadata": {},
   "outputs": [
    {
     "name": "stdout",
     "output_type": "stream",
     "text": [
      "<re.Match object; span=(0, 5), match='hello'>\n",
      "<re.Match object; span=(11, 16), match='heooo'>\n"
     ]
    }
   ],
   "source": [
    "textString='helloheasdoheooohexn'\n",
    "pattern=re.compile('he..o')\n",
    "matches=pattern.finditer(textString)\n",
    "for match in matches:\n",
    "    print(match)"
   ]
  },
  {
   "cell_type": "code",
   "execution_count": 17,
   "id": "cc457e7f",
   "metadata": {},
   "outputs": [
    {
     "name": "stdout",
     "output_type": "stream",
     "text": [
      "<re.Match object; span=(0, 1), match='h'>\n"
     ]
    }
   ],
   "source": [
    "textString='helloheasdoheooohexn'\n",
    "textString2='gellodnmxks'\n",
    "pattern=re.compile('^h')\n",
    "matches=pattern.finditer(textString)\n",
    "for match in matches:\n",
    "    print(match)"
   ]
  },
  {
   "cell_type": "code",
   "execution_count": 18,
   "id": "d9a933f2",
   "metadata": {},
   "outputs": [],
   "source": [
    "matches2=pattern.finditer(textString2)\n",
    "for match in matches2:\n",
    "    print(match)"
   ]
  },
  {
   "cell_type": "markdown",
   "id": "b5934e50",
   "metadata": {},
   "source": [
    "# Set"
   ]
  },
  {
   "cell_type": "code",
   "execution_count": 19,
   "id": "bec695a2",
   "metadata": {},
   "outputs": [
    {
     "data": {
      "text/plain": [
       "'A set is a set of characters inside a pair of square brackets [] with a special meaning.\\nAppend multiple conditions back-to back\\n\\nA ^ (caret) inside a set negates the expression.\\nA - (dash) in a set specifies a range if it is in between, otherwise the dash itself.\\n\\n\\nExamples:\\n- [arn] Returns a match where one of the specified characters (a, r, or n) are present\\n- [a-n] Returns a match for any lower case character, alphabetically between a and n\\n- [^arn] Returns a match for any character EXCEPT a, r, and n\\n- [0123] Returns a match where any of the specified digits (0, 1, 2, or 3) are present\\n- [0-9] Returns a match for any digit between 0 and 9\\n- 0-5 Returns a match for any two-digit numbers from 00 and 59\\n- [a-zA-Z] Returns a match for any character alphabetically between a and z, lower case OR upper case\\n'"
      ]
     },
     "execution_count": 19,
     "metadata": {},
     "output_type": "execute_result"
    }
   ],
   "source": [
    "'''A set is a set of characters inside a pair of square brackets [] with a special meaning.\n",
    "Append multiple conditions back-to back\n",
    "\n",
    "A ^ (caret) inside a set negates the expression.\n",
    "A - (dash) in a set specifies a range if it is in between, otherwise the dash itself.\n",
    "\n",
    "\n",
    "Examples:\n",
    "- [arn] Returns a match where one of the specified characters (a, r, or n) are present\n",
    "- [a-n] Returns a match for any lower case character, alphabetically between a and n\n",
    "- [^arn] Returns a match for any character EXCEPT a, r, and n\n",
    "- [0123] Returns a match where any of the specified digits (0, 1, 2, or 3) are present\n",
    "- [0-9] Returns a match for any digit between 0 and 9\n",
    "- 0-5 Returns a match for any two-digit numbers from 00 and 59\n",
    "- [a-zA-Z] Returns a match for any character alphabetically between a and z, lower case OR upper case\n",
    "'''"
   ]
  },
  {
   "cell_type": "code",
   "execution_count": 20,
   "id": "27665f27",
   "metadata": {},
   "outputs": [],
   "source": [
    "dates = '''\n",
    "01.04.2020\n",
    "\n",
    "2020.04.01\n",
    "\n",
    "2020-04-01\n",
    "2020-05-23\n",
    "2020-06-11\n",
    "2020-07-11\n",
    "2020-08-11\n",
    "\n",
    "2020/04/02\n",
    "\n",
    "2020_04_04\n",
    "2020_04_04\n",
    "'''"
   ]
  },
  {
   "cell_type": "code",
   "execution_count": 21,
   "id": "1a87d9fc",
   "metadata": {},
   "outputs": [
    {
     "name": "stdout",
     "output_type": "stream",
     "text": [
      "all dates with a character in between\n",
      "<re.Match object; span=(13, 23), match='2020.04.01'>\n",
      "<re.Match object; span=(25, 35), match='2020-04-01'>\n",
      "<re.Match object; span=(36, 46), match='2020-05-23'>\n",
      "<re.Match object; span=(47, 57), match='2020-06-11'>\n",
      "<re.Match object; span=(58, 68), match='2020-07-11'>\n",
      "<re.Match object; span=(69, 79), match='2020-08-11'>\n",
      "<re.Match object; span=(81, 91), match='2020/04/02'>\n",
      "<re.Match object; span=(93, 103), match='2020_04_04'>\n",
      "<re.Match object; span=(104, 114), match='2020_04_04'>\n"
     ]
    }
   ],
   "source": [
    "print('all dates with a character in between')\n",
    "pattern = re.compile(r'\\d\\d\\d\\d.\\d\\d.\\d\\d')\n",
    "matches = pattern.finditer(dates)\n",
    "for match in matches:\n",
    "    print(match)"
   ]
  },
  {
   "cell_type": "code",
   "execution_count": 22,
   "id": "325d5205",
   "metadata": {},
   "outputs": [
    {
     "name": "stdout",
     "output_type": "stream",
     "text": [
      "<re.Match object; span=(5, 7), match='_1'>\n",
      "<re.Match object; span=(7, 9), match='_2'>\n",
      "<re.Match object; span=(10, 11), match='3'>\n"
     ]
    }
   ],
   "source": [
    "myString = 'hello_1_2-3'\n",
    "pattern = re.compile(r'_?\\d')\n",
    "matches = pattern.finditer(myString)\n",
    "for match in matches:\n",
    "    print(match)"
   ]
  },
  {
   "cell_type": "code",
   "execution_count": 23,
   "id": "c31f5815",
   "metadata": {},
   "outputs": [
    {
     "name": "stdout",
     "output_type": "stream",
     "text": [
      "<re.Match object; span=(0, 1), match='h'>\n",
      "<re.Match object; span=(1, 1), match=''>\n",
      "<re.Match object; span=(2, 2), match=''>\n",
      "<re.Match object; span=(3, 3), match=''>\n",
      "<re.Match object; span=(4, 4), match=''>\n",
      "<re.Match object; span=(5, 5), match=''>\n",
      "<re.Match object; span=(6, 7), match='h'>\n",
      "<re.Match object; span=(7, 7), match=''>\n",
      "<re.Match object; span=(8, 8), match=''>\n",
      "<re.Match object; span=(9, 9), match=''>\n",
      "<re.Match object; span=(10, 10), match=''>\n"
     ]
    }
   ],
   "source": [
    "myString='hellothere'\n",
    "pattern=re.compile(r'h?')\n",
    "matches=pattern.finditer(myString)\n",
    "for match in matches:\n",
    "    print(match)"
   ]
  },
  {
   "cell_type": "markdown",
   "id": "9b262703",
   "metadata": {},
   "source": [
    "# Qunatifier"
   ]
  },
  {
   "cell_type": "code",
   "execution_count": 24,
   "id": "708cf118",
   "metadata": {},
   "outputs": [
    {
     "data": {
      "text/plain": [
       "'\\n* : 0 or more\\n+ : 1 or more\\n? : This says the component must be present either zero or one time\\n{4} : exact number\\n{4,6} : range numbers (min, max)'"
      ]
     },
     "execution_count": 24,
     "metadata": {},
     "output_type": "execute_result"
    }
   ],
   "source": [
    "'''\n",
    "* : 0 or more\n",
    "+ : 1 or more\n",
    "? : This says the component must be present either zero or one time\n",
    "{4} : exact number\n",
    "{4,6} : range numbers (min, max)'''"
   ]
  },
  {
   "cell_type": "markdown",
   "id": "34c4cf38",
   "metadata": {},
   "source": [
    "# Conditions"
   ]
  },
  {
   "cell_type": "code",
   "execution_count": 25,
   "id": "0cfee269",
   "metadata": {},
   "outputs": [],
   "source": [
    "#Use the | for either or condition"
   ]
  },
  {
   "cell_type": "code",
   "execution_count": 26,
   "id": "e51b7f98",
   "metadata": {},
   "outputs": [],
   "source": [
    "my_string = \"\"\"\n",
    "Mr Simpson\n",
    "Mrs Simpson\n",
    "Mr. Brown\n",
    "Ms Smith\n",
    "Mr. T\n",
    "hey there\n",
    "Mr. hey there\n",
    "\"\"\""
   ]
  },
  {
   "cell_type": "code",
   "execution_count": 27,
   "id": "382d3773",
   "metadata": {},
   "outputs": [
    {
     "name": "stdout",
     "output_type": "stream",
     "text": [
      "<re.Match object; span=(1, 11), match='Mr Simpson'>\n",
      "<re.Match object; span=(12, 23), match='Mrs Simpson'>\n",
      "<re.Match object; span=(24, 33), match='Mr. Brown'>\n",
      "<re.Match object; span=(34, 42), match='Ms Smith'>\n",
      "<re.Match object; span=(43, 48), match='Mr. T'>\n",
      "<re.Match object; span=(59, 66), match='Mr. hey'>\n"
     ]
    }
   ],
   "source": [
    "pattern = re.compile(r'(Mr|Ms|Mrs)\\.?\\s\\w+')\n",
    "matches = pattern.finditer(my_string)\n",
    "for match in matches:\n",
    "    print(match)"
   ]
  },
  {
   "cell_type": "code",
   "execution_count": 28,
   "id": "40a995e8",
   "metadata": {},
   "outputs": [
    {
     "name": "stdout",
     "output_type": "stream",
     "text": [
      "<re.Match object; span=(1, 11), match='Mr Simpson'>\n",
      "<re.Match object; span=(12, 23), match='Mrs Simpson'>\n",
      "<re.Match object; span=(24, 33), match='Mr. Brown'>\n",
      "<re.Match object; span=(34, 42), match='Ms Smith'>\n",
      "<re.Match object; span=(43, 48), match='Mr. T'>\n",
      "<re.Match object; span=(59, 66), match='Mr. hey'>\n"
     ]
    }
   ],
   "source": [
    "pattern = re.compile(r'(Mr|Ms|Mrs)\\.?\\s[a-zA-Z]+')\n",
    "matches = pattern.finditer(my_string)\n",
    "for match in matches:\n",
    "    print(match)"
   ]
  },
  {
   "cell_type": "code",
   "execution_count": null,
   "id": "4b8b2bc9",
   "metadata": {},
   "outputs": [],
   "source": []
  }
 ],
 "metadata": {
  "kernelspec": {
   "display_name": "Python 3 (ipykernel)",
   "language": "python",
   "name": "python3"
  },
  "language_info": {
   "codemirror_mode": {
    "name": "ipython",
    "version": 3
   },
   "file_extension": ".py",
   "mimetype": "text/x-python",
   "name": "python",
   "nbconvert_exporter": "python",
   "pygments_lexer": "ipython3",
   "version": "3.8.0"
  }
 },
 "nbformat": 4,
 "nbformat_minor": 5
}
