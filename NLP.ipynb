{
 "cells": [
  {
   "cell_type": "code",
   "execution_count": 1,
   "id": "ac89ae9f",
   "metadata": {},
   "outputs": [],
   "source": [
    "import os\n",
    "import nltk\n",
    "import nltk.corpus\n"
   ]
  },
  {
   "cell_type": "code",
   "execution_count": 2,
   "id": "0d180f40",
   "metadata": {},
   "outputs": [
    {
     "name": "stderr",
     "output_type": "stream",
     "text": [
      "[nltk_data] Downloading collection 'popular'\n",
      "[nltk_data]    | \n",
      "[nltk_data]    | Downloading package cmudict to\n",
      "[nltk_data]    |     C:\\Users\\91932\\AppData\\Roaming\\nltk_data...\n",
      "[nltk_data]    |   Package cmudict is already up-to-date!\n",
      "[nltk_data]    | Downloading package gazetteers to\n",
      "[nltk_data]    |     C:\\Users\\91932\\AppData\\Roaming\\nltk_data...\n",
      "[nltk_data]    |   Package gazetteers is already up-to-date!\n",
      "[nltk_data]    | Downloading package genesis to\n",
      "[nltk_data]    |     C:\\Users\\91932\\AppData\\Roaming\\nltk_data...\n",
      "[nltk_data]    |   Package genesis is already up-to-date!\n",
      "[nltk_data]    | Downloading package gutenberg to\n",
      "[nltk_data]    |     C:\\Users\\91932\\AppData\\Roaming\\nltk_data...\n",
      "[nltk_data]    |   Package gutenberg is already up-to-date!\n",
      "[nltk_data]    | Downloading package inaugural to\n",
      "[nltk_data]    |     C:\\Users\\91932\\AppData\\Roaming\\nltk_data...\n",
      "[nltk_data]    |   Package inaugural is already up-to-date!\n",
      "[nltk_data]    | Downloading package movie_reviews to\n",
      "[nltk_data]    |     C:\\Users\\91932\\AppData\\Roaming\\nltk_data...\n",
      "[nltk_data]    |   Package movie_reviews is already up-to-date!\n",
      "[nltk_data]    | Downloading package names to\n",
      "[nltk_data]    |     C:\\Users\\91932\\AppData\\Roaming\\nltk_data...\n",
      "[nltk_data]    |   Package names is already up-to-date!\n",
      "[nltk_data]    | Downloading package shakespeare to\n",
      "[nltk_data]    |     C:\\Users\\91932\\AppData\\Roaming\\nltk_data...\n",
      "[nltk_data]    |   Package shakespeare is already up-to-date!\n",
      "[nltk_data]    | Downloading package stopwords to\n",
      "[nltk_data]    |     C:\\Users\\91932\\AppData\\Roaming\\nltk_data...\n",
      "[nltk_data]    |   Package stopwords is already up-to-date!\n",
      "[nltk_data]    | Downloading package treebank to\n",
      "[nltk_data]    |     C:\\Users\\91932\\AppData\\Roaming\\nltk_data...\n",
      "[nltk_data]    |   Package treebank is already up-to-date!\n",
      "[nltk_data]    | Downloading package twitter_samples to\n",
      "[nltk_data]    |     C:\\Users\\91932\\AppData\\Roaming\\nltk_data...\n",
      "[nltk_data]    |   Package twitter_samples is already up-to-date!\n",
      "[nltk_data]    | Downloading package omw to\n",
      "[nltk_data]    |     C:\\Users\\91932\\AppData\\Roaming\\nltk_data...\n",
      "[nltk_data]    |   Package omw is already up-to-date!\n",
      "[nltk_data]    | Downloading package omw-1.4 to\n",
      "[nltk_data]    |     C:\\Users\\91932\\AppData\\Roaming\\nltk_data...\n",
      "[nltk_data]    |   Package omw-1.4 is already up-to-date!\n",
      "[nltk_data]    | Downloading package wordnet to\n",
      "[nltk_data]    |     C:\\Users\\91932\\AppData\\Roaming\\nltk_data...\n",
      "[nltk_data]    |   Package wordnet is already up-to-date!\n",
      "[nltk_data]    | Downloading package wordnet2021 to\n",
      "[nltk_data]    |     C:\\Users\\91932\\AppData\\Roaming\\nltk_data...\n",
      "[nltk_data]    |   Package wordnet2021 is already up-to-date!\n",
      "[nltk_data]    | Downloading package wordnet31 to\n",
      "[nltk_data]    |     C:\\Users\\91932\\AppData\\Roaming\\nltk_data...\n",
      "[nltk_data]    |   Package wordnet31 is already up-to-date!\n",
      "[nltk_data]    | Downloading package wordnet_ic to\n",
      "[nltk_data]    |     C:\\Users\\91932\\AppData\\Roaming\\nltk_data...\n",
      "[nltk_data]    |   Package wordnet_ic is already up-to-date!\n",
      "[nltk_data]    | Downloading package words to\n",
      "[nltk_data]    |     C:\\Users\\91932\\AppData\\Roaming\\nltk_data...\n",
      "[nltk_data]    |   Package words is already up-to-date!\n",
      "[nltk_data]    | Downloading package maxent_ne_chunker to\n",
      "[nltk_data]    |     C:\\Users\\91932\\AppData\\Roaming\\nltk_data...\n",
      "[nltk_data]    |   Package maxent_ne_chunker is already up-to-date!\n",
      "[nltk_data]    | Downloading package punkt to\n",
      "[nltk_data]    |     C:\\Users\\91932\\AppData\\Roaming\\nltk_data...\n",
      "[nltk_data]    |   Package punkt is already up-to-date!\n",
      "[nltk_data]    | Downloading package snowball_data to\n",
      "[nltk_data]    |     C:\\Users\\91932\\AppData\\Roaming\\nltk_data...\n",
      "[nltk_data]    |   Package snowball_data is already up-to-date!\n",
      "[nltk_data]    | Downloading package averaged_perceptron_tagger to\n",
      "[nltk_data]    |     C:\\Users\\91932\\AppData\\Roaming\\nltk_data...\n",
      "[nltk_data]    |   Package averaged_perceptron_tagger is already up-\n",
      "[nltk_data]    |       to-date!\n",
      "[nltk_data]    | \n",
      "[nltk_data]  Done downloading collection popular\n"
     ]
    },
    {
     "data": {
      "text/plain": [
       "True"
      ]
     },
     "execution_count": 2,
     "metadata": {},
     "output_type": "execute_result"
    }
   ],
   "source": [
    "nltk.download('popular')"
   ]
  },
  {
   "cell_type": "code",
   "execution_count": 3,
   "id": "f57d3e8a",
   "metadata": {},
   "outputs": [
    {
     "name": "stdout",
     "output_type": "stream",
     "text": [
      "['brown', 'brown.zip', 'cmudict', 'cmudict.zip', 'gazetteers', 'gazetteers.zip', 'genesis', 'genesis.zip', 'gutenberg', 'gutenberg.zip', 'inaugural', 'inaugural.zip', 'movie_reviews', 'movie_reviews.zip', 'names', 'names.zip', 'omw', 'omw-1.4', 'omw-1.4.zip', 'omw.zip', 'shakespeare', 'shakespeare.zip', 'stopwords', 'stopwords.zip', 'treebank', 'treebank.zip', 'twitter_samples', 'twitter_samples.zip', 'wordnet', 'wordnet.zip', 'wordnet2021', 'wordnet2021.zip', 'wordnet31', 'wordnet31.zip', 'wordnet_ic', 'wordnet_ic.zip', 'words', 'words.zip']\n"
     ]
    }
   ],
   "source": [
    "print(os.listdir(nltk.data.find(\"corpora\")))"
   ]
  },
  {
   "cell_type": "code",
   "execution_count": 4,
   "id": "45cea03c",
   "metadata": {},
   "outputs": [
    {
     "name": "stderr",
     "output_type": "stream",
     "text": [
      "[nltk_data] Downloading package brown to\n",
      "[nltk_data]     C:\\Users\\91932\\AppData\\Roaming\\nltk_data...\n",
      "[nltk_data]   Package brown is already up-to-date!\n"
     ]
    },
    {
     "data": {
      "text/plain": [
       "True"
      ]
     },
     "execution_count": 4,
     "metadata": {},
     "output_type": "execute_result"
    }
   ],
   "source": [
    "from nltk.corpus import brown\n",
    "nltk.download('brown')"
   ]
  },
  {
   "cell_type": "code",
   "execution_count": 5,
   "id": "e7321cab",
   "metadata": {},
   "outputs": [
    {
     "data": {
      "text/plain": [
       "['The', 'Fulton', 'County', 'Grand', 'Jury', 'said', ...]"
      ]
     },
     "execution_count": 5,
     "metadata": {},
     "output_type": "execute_result"
    }
   ],
   "source": [
    "brown.words()"
   ]
  },
  {
   "cell_type": "code",
   "execution_count": 6,
   "id": "9d17a3fb",
   "metadata": {},
   "outputs": [
    {
     "data": {
      "text/plain": [
       "['austen-emma.txt',\n",
       " 'austen-persuasion.txt',\n",
       " 'austen-sense.txt',\n",
       " 'bible-kjv.txt',\n",
       " 'blake-poems.txt',\n",
       " 'bryant-stories.txt',\n",
       " 'burgess-busterbrown.txt',\n",
       " 'carroll-alice.txt',\n",
       " 'chesterton-ball.txt',\n",
       " 'chesterton-brown.txt',\n",
       " 'chesterton-thursday.txt',\n",
       " 'edgeworth-parents.txt',\n",
       " 'melville-moby_dick.txt',\n",
       " 'milton-paradise.txt',\n",
       " 'shakespeare-caesar.txt',\n",
       " 'shakespeare-hamlet.txt',\n",
       " 'shakespeare-macbeth.txt',\n",
       " 'whitman-leaves.txt']"
      ]
     },
     "execution_count": 6,
     "metadata": {},
     "output_type": "execute_result"
    }
   ],
   "source": [
    "nltk.corpus.gutenberg.fileids()"
   ]
  },
  {
   "cell_type": "code",
   "execution_count": 7,
   "id": "b20ee474",
   "metadata": {},
   "outputs": [],
   "source": [
    "hamlet=nltk.corpus.gutenberg.words('shakespeare-hamlet.txt')"
   ]
  },
  {
   "cell_type": "code",
   "execution_count": 8,
   "id": "954cc154",
   "metadata": {},
   "outputs": [
    {
     "data": {
      "text/plain": [
       "['[', 'The', 'Tragedie', 'of', 'Hamlet', 'by', ...]"
      ]
     },
     "execution_count": 8,
     "metadata": {},
     "output_type": "execute_result"
    }
   ],
   "source": [
    "hamlet"
   ]
  },
  {
   "cell_type": "code",
   "execution_count": 9,
   "id": "f773d671",
   "metadata": {},
   "outputs": [
    {
     "name": "stdout",
     "output_type": "stream",
     "text": [
      "[ The Tragedie of Hamlet by William Shakespeare 1599 ] Actus Primus . Scoena Prima . Enter Barnardo and Francisco two Centinels . Barnardo . Who ' s there ? Fran . Nay answer me : Stand & vnfold your selfe Bar . Long liue the King Fran . Barnardo ? Bar . He Fran . You come most carefully vpon your houre Bar . ' Tis now strook twelue , get thee to bed Francisco Fran . For this releefe much thankes : ' Tis bitter cold , And I am sicke at heart Barn . Haue you had quiet Guard ? Fran . Not a Mouse stirring Barn . Well , goodnight . If you do meet Horatio and Marcellus , the Riuals of my Watch , bid them make hast . Enter Horatio and Marcellus . Fran . I thinke I heare them . Stand : who ' s there ? Hor . Friends to this ground Mar . And Leige - men to the Dane Fran . Giue you good night Mar . O farwel honest Soldier , who hath relieu ' d you ? Fra . Barnardo ha ' s my place : giue you goodnight . Exit Fran . Mar . Holla Barnardo Bar . Say , what is Horatio there ? Hor . A peece of him Bar . Welcome Horatio , welcome good Marcellus Mar . What , ha ' s this thing appear ' d againe to night Bar . I haue seene nothing Mar . Horatio saies , ' tis but our Fantasie , And will not let beleefe take hold of him Touching this dreaded sight , twice seene of vs , Therefore I haue intreated him along With vs , to watch the minutes of this Night , That if againe this Apparition come , He may approue our eyes , and speake to it Hor . Tush , tush , ' twill not appeare Bar . Sit downe a - while , And let vs once againe assaile your eares , That are so fortified against our Story , What we two Nights haue seene Hor . Well , sit we downe , And let vs heare Barnardo speake of this Barn . Last night of all , When yond same Starre that ' s Westward from the Pole Had made his course t ' illume that part of Heauen Where now it burnes , Marcellus and my selfe , The Bell then beating one Mar . Peace , breake thee of : Enter the Ghost . Looke where it comes againe Barn . In the same figure , like the King that ' s dead Mar . Thou art a Scholler ; speake to it Horatio Barn . Lookes it not like the King ? Marke it Horatio Hora . Most like : It harrowes me with fear & wonder Barn . It would be spoke too Mar . Question it Horatio Hor . What art "
     ]
    }
   ],
   "source": [
    "for word in hamlet[:500]:\n",
    "    print(word,sep=' ',end=' ')"
   ]
  },
  {
   "cell_type": "code",
   "execution_count": 10,
   "id": "47d15efa",
   "metadata": {},
   "outputs": [],
   "source": [
    "harryPotter='''Hagrid actually teaches. interesting things about interesting creatures. and it’s care about magical creatures so it fits nicelly. problem is that he doesn’t takes into account that those creatures are a lot more dangerous to human students than to him.\n",
    "\n",
    "Snape, on the other side, is extremely carefull about safety at his classes. which is one of the most important things and hagrid’s flaw. but we can’t say that he teaches. he writes a potion recipe and barks for the students to do it while he complains about how useless the students are and how many mistakes they make.\n",
    "\n",
    "I have never seen Snape warn a student about a mistake he was going to make or advice how to correct a mistake so the potion improves. as a potions teacher he’s not much better than Gilderoy as a DA teacher. it’s better to self-study than to attend his classes.\n",
    "\n",
    "I must acknowledge, though, that Severus DA classes were acceptable as far as we know. but I still feel that self-study with a proper book would be a better way to learn than attending his classes.'''"
   ]
  },
  {
   "cell_type": "code",
   "execution_count": 11,
   "id": "248a8c60",
   "metadata": {},
   "outputs": [
    {
     "data": {
      "text/plain": [
       "'Hagrid actually teaches. interesting things about interesting creatures. and it’s care about magical creatures so it fits nicelly. problem is that he doesn’t takes into account that those creatures are a lot more dangerous to human students than to him.\\n\\nSnape, on the other side, is extremely carefull about safety at his classes. which is one of the most important things and hagrid’s flaw. but we can’t say that he teaches. he writes a potion recipe and barks for the students to do it while he complains about how useless the students are and how many mistakes they make.\\n\\nI have never seen Snape warn a student about a mistake he was going to make or advice how to correct a mistake so the potion improves. as a potions teacher he’s not much better than Gilderoy as a DA teacher. it’s better to self-study than to attend his classes.\\n\\nI must acknowledge, though, that Severus DA classes were acceptable as far as we know. but I still feel that self-study with a proper book would be a better way to learn than attending his classes.'"
      ]
     },
     "execution_count": 11,
     "metadata": {},
     "output_type": "execute_result"
    }
   ],
   "source": [
    "harryPotter"
   ]
  },
  {
   "cell_type": "code",
   "execution_count": 12,
   "id": "1fa8b558",
   "metadata": {},
   "outputs": [
    {
     "data": {
      "text/plain": [
       "str"
      ]
     },
     "execution_count": 12,
     "metadata": {},
     "output_type": "execute_result"
    }
   ],
   "source": [
    "type(harryPotter)"
   ]
  },
  {
   "cell_type": "code",
   "execution_count": 13,
   "id": "916990a6",
   "metadata": {},
   "outputs": [],
   "source": [
    "from nltk.tokenize import word_tokenize"
   ]
  },
  {
   "cell_type": "code",
   "execution_count": 14,
   "id": "fd372d30",
   "metadata": {},
   "outputs": [],
   "source": [
    "hpTokens=word_tokenize(harryPotter)"
   ]
  },
  {
   "cell_type": "code",
   "execution_count": 15,
   "id": "34cfedde",
   "metadata": {},
   "outputs": [
    {
     "data": {
      "text/plain": [
       "['Hagrid',\n",
       " 'actually',\n",
       " 'teaches',\n",
       " '.',\n",
       " 'interesting',\n",
       " 'things',\n",
       " 'about',\n",
       " 'interesting',\n",
       " 'creatures',\n",
       " '.',\n",
       " 'and',\n",
       " 'it',\n",
       " '’',\n",
       " 's',\n",
       " 'care',\n",
       " 'about',\n",
       " 'magical',\n",
       " 'creatures',\n",
       " 'so',\n",
       " 'it',\n",
       " 'fits',\n",
       " 'nicelly',\n",
       " '.',\n",
       " 'problem',\n",
       " 'is',\n",
       " 'that',\n",
       " 'he',\n",
       " 'doesn',\n",
       " '’',\n",
       " 't',\n",
       " 'takes',\n",
       " 'into',\n",
       " 'account',\n",
       " 'that',\n",
       " 'those',\n",
       " 'creatures',\n",
       " 'are',\n",
       " 'a',\n",
       " 'lot',\n",
       " 'more',\n",
       " 'dangerous',\n",
       " 'to',\n",
       " 'human',\n",
       " 'students',\n",
       " 'than',\n",
       " 'to',\n",
       " 'him',\n",
       " '.',\n",
       " 'Snape',\n",
       " ',',\n",
       " 'on',\n",
       " 'the',\n",
       " 'other',\n",
       " 'side',\n",
       " ',',\n",
       " 'is',\n",
       " 'extremely',\n",
       " 'carefull',\n",
       " 'about',\n",
       " 'safety',\n",
       " 'at',\n",
       " 'his',\n",
       " 'classes',\n",
       " '.',\n",
       " 'which',\n",
       " 'is',\n",
       " 'one',\n",
       " 'of',\n",
       " 'the',\n",
       " 'most',\n",
       " 'important',\n",
       " 'things',\n",
       " 'and',\n",
       " 'hagrid',\n",
       " '’',\n",
       " 's',\n",
       " 'flaw',\n",
       " '.',\n",
       " 'but',\n",
       " 'we',\n",
       " 'can',\n",
       " '’',\n",
       " 't',\n",
       " 'say',\n",
       " 'that',\n",
       " 'he',\n",
       " 'teaches',\n",
       " '.',\n",
       " 'he',\n",
       " 'writes',\n",
       " 'a',\n",
       " 'potion',\n",
       " 'recipe',\n",
       " 'and',\n",
       " 'barks',\n",
       " 'for',\n",
       " 'the',\n",
       " 'students',\n",
       " 'to',\n",
       " 'do',\n",
       " 'it',\n",
       " 'while',\n",
       " 'he',\n",
       " 'complains',\n",
       " 'about',\n",
       " 'how',\n",
       " 'useless',\n",
       " 'the',\n",
       " 'students',\n",
       " 'are',\n",
       " 'and',\n",
       " 'how',\n",
       " 'many',\n",
       " 'mistakes',\n",
       " 'they',\n",
       " 'make',\n",
       " '.',\n",
       " 'I',\n",
       " 'have',\n",
       " 'never',\n",
       " 'seen',\n",
       " 'Snape',\n",
       " 'warn',\n",
       " 'a',\n",
       " 'student',\n",
       " 'about',\n",
       " 'a',\n",
       " 'mistake',\n",
       " 'he',\n",
       " 'was',\n",
       " 'going',\n",
       " 'to',\n",
       " 'make',\n",
       " 'or',\n",
       " 'advice',\n",
       " 'how',\n",
       " 'to',\n",
       " 'correct',\n",
       " 'a',\n",
       " 'mistake',\n",
       " 'so',\n",
       " 'the',\n",
       " 'potion',\n",
       " 'improves',\n",
       " '.',\n",
       " 'as',\n",
       " 'a',\n",
       " 'potions',\n",
       " 'teacher',\n",
       " 'he',\n",
       " '’',\n",
       " 's',\n",
       " 'not',\n",
       " 'much',\n",
       " 'better',\n",
       " 'than',\n",
       " 'Gilderoy',\n",
       " 'as',\n",
       " 'a',\n",
       " 'DA',\n",
       " 'teacher',\n",
       " '.',\n",
       " 'it',\n",
       " '’',\n",
       " 's',\n",
       " 'better',\n",
       " 'to',\n",
       " 'self-study',\n",
       " 'than',\n",
       " 'to',\n",
       " 'attend',\n",
       " 'his',\n",
       " 'classes',\n",
       " '.',\n",
       " 'I',\n",
       " 'must',\n",
       " 'acknowledge',\n",
       " ',',\n",
       " 'though',\n",
       " ',',\n",
       " 'that',\n",
       " 'Severus',\n",
       " 'DA',\n",
       " 'classes',\n",
       " 'were',\n",
       " 'acceptable',\n",
       " 'as',\n",
       " 'far',\n",
       " 'as',\n",
       " 'we',\n",
       " 'know',\n",
       " '.',\n",
       " 'but',\n",
       " 'I',\n",
       " 'still',\n",
       " 'feel',\n",
       " 'that',\n",
       " 'self-study',\n",
       " 'with',\n",
       " 'a',\n",
       " 'proper',\n",
       " 'book',\n",
       " 'would',\n",
       " 'be',\n",
       " 'a',\n",
       " 'better',\n",
       " 'way',\n",
       " 'to',\n",
       " 'learn',\n",
       " 'than',\n",
       " 'attending',\n",
       " 'his',\n",
       " 'classes',\n",
       " '.']"
      ]
     },
     "execution_count": 15,
     "metadata": {},
     "output_type": "execute_result"
    }
   ],
   "source": [
    "hpTokens"
   ]
  },
  {
   "cell_type": "code",
   "execution_count": 16,
   "id": "f4d37297",
   "metadata": {},
   "outputs": [
    {
     "data": {
      "text/plain": [
       "214"
      ]
     },
     "execution_count": 16,
     "metadata": {},
     "output_type": "execute_result"
    }
   ],
   "source": [
    "len(hpTokens)"
   ]
  },
  {
   "cell_type": "code",
   "execution_count": 17,
   "id": "2206fb8d",
   "metadata": {},
   "outputs": [],
   "source": [
    "from nltk.probability import FreqDist\n",
    "fdist=FreqDist()"
   ]
  },
  {
   "cell_type": "code",
   "execution_count": 18,
   "id": "f40c38a3",
   "metadata": {},
   "outputs": [],
   "source": [
    "for word in hpTokens:\n",
    "    fdist[word.lower()]+=1"
   ]
  },
  {
   "cell_type": "code",
   "execution_count": 19,
   "id": "a5d02d30",
   "metadata": {},
   "outputs": [
    {
     "name": "stdout",
     "output_type": "stream",
     "text": [
      "<FreqDist with 114 samples and 214 outcomes>\n"
     ]
    }
   ],
   "source": [
    "print(fdist)"
   ]
  },
  {
   "cell_type": "code",
   "execution_count": 20,
   "id": "fb937971",
   "metadata": {},
   "outputs": [
    {
     "data": {
      "text/plain": [
       "4"
      ]
     },
     "execution_count": 20,
     "metadata": {},
     "output_type": "execute_result"
    }
   ],
   "source": [
    "fdist[',']"
   ]
  },
  {
   "cell_type": "code",
   "execution_count": 21,
   "id": "bbedffc1",
   "metadata": {},
   "outputs": [
    {
     "data": {
      "text/plain": [
       "114"
      ]
     },
     "execution_count": 21,
     "metadata": {},
     "output_type": "execute_result"
    }
   ],
   "source": [
    "len(fdist)"
   ]
  },
  {
   "cell_type": "code",
   "execution_count": 22,
   "id": "991ddde6",
   "metadata": {},
   "outputs": [],
   "source": [
    "fdistTop10=fdist.most_common(10)"
   ]
  },
  {
   "cell_type": "code",
   "execution_count": 23,
   "id": "aadd74af",
   "metadata": {},
   "outputs": [
    {
     "data": {
      "text/plain": [
       "[('.', 13),\n",
       " ('a', 9),\n",
       " ('to', 8),\n",
       " ('’', 6),\n",
       " ('he', 6),\n",
       " ('about', 5),\n",
       " ('that', 5),\n",
       " ('the', 5),\n",
       " ('and', 4),\n",
       " ('it', 4)]"
      ]
     },
     "execution_count": 23,
     "metadata": {},
     "output_type": "execute_result"
    }
   ],
   "source": [
    "fdistTop10"
   ]
  },
  {
   "cell_type": "code",
   "execution_count": 24,
   "id": "63e0f54a",
   "metadata": {},
   "outputs": [],
   "source": [
    "from nltk.tokenize import blankline_tokenize\n",
    "hpBlank=blankline_tokenize(harryPotter)"
   ]
  },
  {
   "cell_type": "code",
   "execution_count": 25,
   "id": "02a0f226",
   "metadata": {},
   "outputs": [
    {
     "data": {
      "text/plain": [
       "['Hagrid actually teaches. interesting things about interesting creatures. and it’s care about magical creatures so it fits nicelly. problem is that he doesn’t takes into account that those creatures are a lot more dangerous to human students than to him.',\n",
       " 'Snape, on the other side, is extremely carefull about safety at his classes. which is one of the most important things and hagrid’s flaw. but we can’t say that he teaches. he writes a potion recipe and barks for the students to do it while he complains about how useless the students are and how many mistakes they make.',\n",
       " 'I have never seen Snape warn a student about a mistake he was going to make or advice how to correct a mistake so the potion improves. as a potions teacher he’s not much better than Gilderoy as a DA teacher. it’s better to self-study than to attend his classes.',\n",
       " 'I must acknowledge, though, that Severus DA classes were acceptable as far as we know. but I still feel that self-study with a proper book would be a better way to learn than attending his classes.']"
      ]
     },
     "execution_count": 25,
     "metadata": {},
     "output_type": "execute_result"
    }
   ],
   "source": [
    "hpBlank"
   ]
  },
  {
   "cell_type": "code",
   "execution_count": 26,
   "id": "4a64e122",
   "metadata": {},
   "outputs": [
    {
     "data": {
      "text/plain": [
       "4"
      ]
     },
     "execution_count": 26,
     "metadata": {},
     "output_type": "execute_result"
    }
   ],
   "source": [
    "len(hpBlank)"
   ]
  },
  {
   "cell_type": "code",
   "execution_count": 27,
   "id": "d5617129",
   "metadata": {},
   "outputs": [],
   "source": [
    "from nltk.util import bigrams,ngrams,trigrams"
   ]
  },
  {
   "cell_type": "code",
   "execution_count": 28,
   "id": "b1f3c2eb",
   "metadata": {},
   "outputs": [],
   "source": [
    "hpBigrams=list(nltk.bigrams(hpTokens))"
   ]
  },
  {
   "cell_type": "code",
   "execution_count": 29,
   "id": "3dba59f4",
   "metadata": {},
   "outputs": [
    {
     "data": {
      "text/plain": [
       "[('Hagrid', 'actually'),\n",
       " ('actually', 'teaches'),\n",
       " ('teaches', '.'),\n",
       " ('.', 'interesting'),\n",
       " ('interesting', 'things'),\n",
       " ('things', 'about'),\n",
       " ('about', 'interesting'),\n",
       " ('interesting', 'creatures'),\n",
       " ('creatures', '.'),\n",
       " ('.', 'and'),\n",
       " ('and', 'it'),\n",
       " ('it', '’'),\n",
       " ('’', 's'),\n",
       " ('s', 'care'),\n",
       " ('care', 'about'),\n",
       " ('about', 'magical'),\n",
       " ('magical', 'creatures'),\n",
       " ('creatures', 'so'),\n",
       " ('so', 'it'),\n",
       " ('it', 'fits'),\n",
       " ('fits', 'nicelly'),\n",
       " ('nicelly', '.'),\n",
       " ('.', 'problem'),\n",
       " ('problem', 'is'),\n",
       " ('is', 'that'),\n",
       " ('that', 'he'),\n",
       " ('he', 'doesn'),\n",
       " ('doesn', '’'),\n",
       " ('’', 't'),\n",
       " ('t', 'takes'),\n",
       " ('takes', 'into'),\n",
       " ('into', 'account'),\n",
       " ('account', 'that'),\n",
       " ('that', 'those'),\n",
       " ('those', 'creatures'),\n",
       " ('creatures', 'are'),\n",
       " ('are', 'a'),\n",
       " ('a', 'lot'),\n",
       " ('lot', 'more'),\n",
       " ('more', 'dangerous'),\n",
       " ('dangerous', 'to'),\n",
       " ('to', 'human'),\n",
       " ('human', 'students'),\n",
       " ('students', 'than'),\n",
       " ('than', 'to'),\n",
       " ('to', 'him'),\n",
       " ('him', '.'),\n",
       " ('.', 'Snape'),\n",
       " ('Snape', ','),\n",
       " (',', 'on'),\n",
       " ('on', 'the'),\n",
       " ('the', 'other'),\n",
       " ('other', 'side'),\n",
       " ('side', ','),\n",
       " (',', 'is'),\n",
       " ('is', 'extremely'),\n",
       " ('extremely', 'carefull'),\n",
       " ('carefull', 'about'),\n",
       " ('about', 'safety'),\n",
       " ('safety', 'at'),\n",
       " ('at', 'his'),\n",
       " ('his', 'classes'),\n",
       " ('classes', '.'),\n",
       " ('.', 'which'),\n",
       " ('which', 'is'),\n",
       " ('is', 'one'),\n",
       " ('one', 'of'),\n",
       " ('of', 'the'),\n",
       " ('the', 'most'),\n",
       " ('most', 'important'),\n",
       " ('important', 'things'),\n",
       " ('things', 'and'),\n",
       " ('and', 'hagrid'),\n",
       " ('hagrid', '’'),\n",
       " ('’', 's'),\n",
       " ('s', 'flaw'),\n",
       " ('flaw', '.'),\n",
       " ('.', 'but'),\n",
       " ('but', 'we'),\n",
       " ('we', 'can'),\n",
       " ('can', '’'),\n",
       " ('’', 't'),\n",
       " ('t', 'say'),\n",
       " ('say', 'that'),\n",
       " ('that', 'he'),\n",
       " ('he', 'teaches'),\n",
       " ('teaches', '.'),\n",
       " ('.', 'he'),\n",
       " ('he', 'writes'),\n",
       " ('writes', 'a'),\n",
       " ('a', 'potion'),\n",
       " ('potion', 'recipe'),\n",
       " ('recipe', 'and'),\n",
       " ('and', 'barks'),\n",
       " ('barks', 'for'),\n",
       " ('for', 'the'),\n",
       " ('the', 'students'),\n",
       " ('students', 'to'),\n",
       " ('to', 'do'),\n",
       " ('do', 'it'),\n",
       " ('it', 'while'),\n",
       " ('while', 'he'),\n",
       " ('he', 'complains'),\n",
       " ('complains', 'about'),\n",
       " ('about', 'how'),\n",
       " ('how', 'useless'),\n",
       " ('useless', 'the'),\n",
       " ('the', 'students'),\n",
       " ('students', 'are'),\n",
       " ('are', 'and'),\n",
       " ('and', 'how'),\n",
       " ('how', 'many'),\n",
       " ('many', 'mistakes'),\n",
       " ('mistakes', 'they'),\n",
       " ('they', 'make'),\n",
       " ('make', '.'),\n",
       " ('.', 'I'),\n",
       " ('I', 'have'),\n",
       " ('have', 'never'),\n",
       " ('never', 'seen'),\n",
       " ('seen', 'Snape'),\n",
       " ('Snape', 'warn'),\n",
       " ('warn', 'a'),\n",
       " ('a', 'student'),\n",
       " ('student', 'about'),\n",
       " ('about', 'a'),\n",
       " ('a', 'mistake'),\n",
       " ('mistake', 'he'),\n",
       " ('he', 'was'),\n",
       " ('was', 'going'),\n",
       " ('going', 'to'),\n",
       " ('to', 'make'),\n",
       " ('make', 'or'),\n",
       " ('or', 'advice'),\n",
       " ('advice', 'how'),\n",
       " ('how', 'to'),\n",
       " ('to', 'correct'),\n",
       " ('correct', 'a'),\n",
       " ('a', 'mistake'),\n",
       " ('mistake', 'so'),\n",
       " ('so', 'the'),\n",
       " ('the', 'potion'),\n",
       " ('potion', 'improves'),\n",
       " ('improves', '.'),\n",
       " ('.', 'as'),\n",
       " ('as', 'a'),\n",
       " ('a', 'potions'),\n",
       " ('potions', 'teacher'),\n",
       " ('teacher', 'he'),\n",
       " ('he', '’'),\n",
       " ('’', 's'),\n",
       " ('s', 'not'),\n",
       " ('not', 'much'),\n",
       " ('much', 'better'),\n",
       " ('better', 'than'),\n",
       " ('than', 'Gilderoy'),\n",
       " ('Gilderoy', 'as'),\n",
       " ('as', 'a'),\n",
       " ('a', 'DA'),\n",
       " ('DA', 'teacher'),\n",
       " ('teacher', '.'),\n",
       " ('.', 'it'),\n",
       " ('it', '’'),\n",
       " ('’', 's'),\n",
       " ('s', 'better'),\n",
       " ('better', 'to'),\n",
       " ('to', 'self-study'),\n",
       " ('self-study', 'than'),\n",
       " ('than', 'to'),\n",
       " ('to', 'attend'),\n",
       " ('attend', 'his'),\n",
       " ('his', 'classes'),\n",
       " ('classes', '.'),\n",
       " ('.', 'I'),\n",
       " ('I', 'must'),\n",
       " ('must', 'acknowledge'),\n",
       " ('acknowledge', ','),\n",
       " (',', 'though'),\n",
       " ('though', ','),\n",
       " (',', 'that'),\n",
       " ('that', 'Severus'),\n",
       " ('Severus', 'DA'),\n",
       " ('DA', 'classes'),\n",
       " ('classes', 'were'),\n",
       " ('were', 'acceptable'),\n",
       " ('acceptable', 'as'),\n",
       " ('as', 'far'),\n",
       " ('far', 'as'),\n",
       " ('as', 'we'),\n",
       " ('we', 'know'),\n",
       " ('know', '.'),\n",
       " ('.', 'but'),\n",
       " ('but', 'I'),\n",
       " ('I', 'still'),\n",
       " ('still', 'feel'),\n",
       " ('feel', 'that'),\n",
       " ('that', 'self-study'),\n",
       " ('self-study', 'with'),\n",
       " ('with', 'a'),\n",
       " ('a', 'proper'),\n",
       " ('proper', 'book'),\n",
       " ('book', 'would'),\n",
       " ('would', 'be'),\n",
       " ('be', 'a'),\n",
       " ('a', 'better'),\n",
       " ('better', 'way'),\n",
       " ('way', 'to'),\n",
       " ('to', 'learn'),\n",
       " ('learn', 'than'),\n",
       " ('than', 'attending'),\n",
       " ('attending', 'his'),\n",
       " ('his', 'classes'),\n",
       " ('classes', '.')]"
      ]
     },
     "execution_count": 29,
     "metadata": {},
     "output_type": "execute_result"
    }
   ],
   "source": [
    "hpBigrams"
   ]
  },
  {
   "cell_type": "code",
   "execution_count": 30,
   "id": "08f3fa23",
   "metadata": {},
   "outputs": [],
   "source": [
    "hpNgrams=list(nltk.ngrams(hpTokens,5))"
   ]
  },
  {
   "cell_type": "code",
   "execution_count": 31,
   "id": "9710e78c",
   "metadata": {},
   "outputs": [
    {
     "data": {
      "text/plain": [
       "[('Hagrid', 'actually', 'teaches', '.', 'interesting'),\n",
       " ('actually', 'teaches', '.', 'interesting', 'things'),\n",
       " ('teaches', '.', 'interesting', 'things', 'about'),\n",
       " ('.', 'interesting', 'things', 'about', 'interesting'),\n",
       " ('interesting', 'things', 'about', 'interesting', 'creatures'),\n",
       " ('things', 'about', 'interesting', 'creatures', '.'),\n",
       " ('about', 'interesting', 'creatures', '.', 'and'),\n",
       " ('interesting', 'creatures', '.', 'and', 'it'),\n",
       " ('creatures', '.', 'and', 'it', '’'),\n",
       " ('.', 'and', 'it', '’', 's'),\n",
       " ('and', 'it', '’', 's', 'care'),\n",
       " ('it', '’', 's', 'care', 'about'),\n",
       " ('’', 's', 'care', 'about', 'magical'),\n",
       " ('s', 'care', 'about', 'magical', 'creatures'),\n",
       " ('care', 'about', 'magical', 'creatures', 'so'),\n",
       " ('about', 'magical', 'creatures', 'so', 'it'),\n",
       " ('magical', 'creatures', 'so', 'it', 'fits'),\n",
       " ('creatures', 'so', 'it', 'fits', 'nicelly'),\n",
       " ('so', 'it', 'fits', 'nicelly', '.'),\n",
       " ('it', 'fits', 'nicelly', '.', 'problem'),\n",
       " ('fits', 'nicelly', '.', 'problem', 'is'),\n",
       " ('nicelly', '.', 'problem', 'is', 'that'),\n",
       " ('.', 'problem', 'is', 'that', 'he'),\n",
       " ('problem', 'is', 'that', 'he', 'doesn'),\n",
       " ('is', 'that', 'he', 'doesn', '’'),\n",
       " ('that', 'he', 'doesn', '’', 't'),\n",
       " ('he', 'doesn', '’', 't', 'takes'),\n",
       " ('doesn', '’', 't', 'takes', 'into'),\n",
       " ('’', 't', 'takes', 'into', 'account'),\n",
       " ('t', 'takes', 'into', 'account', 'that'),\n",
       " ('takes', 'into', 'account', 'that', 'those'),\n",
       " ('into', 'account', 'that', 'those', 'creatures'),\n",
       " ('account', 'that', 'those', 'creatures', 'are'),\n",
       " ('that', 'those', 'creatures', 'are', 'a'),\n",
       " ('those', 'creatures', 'are', 'a', 'lot'),\n",
       " ('creatures', 'are', 'a', 'lot', 'more'),\n",
       " ('are', 'a', 'lot', 'more', 'dangerous'),\n",
       " ('a', 'lot', 'more', 'dangerous', 'to'),\n",
       " ('lot', 'more', 'dangerous', 'to', 'human'),\n",
       " ('more', 'dangerous', 'to', 'human', 'students'),\n",
       " ('dangerous', 'to', 'human', 'students', 'than'),\n",
       " ('to', 'human', 'students', 'than', 'to'),\n",
       " ('human', 'students', 'than', 'to', 'him'),\n",
       " ('students', 'than', 'to', 'him', '.'),\n",
       " ('than', 'to', 'him', '.', 'Snape'),\n",
       " ('to', 'him', '.', 'Snape', ','),\n",
       " ('him', '.', 'Snape', ',', 'on'),\n",
       " ('.', 'Snape', ',', 'on', 'the'),\n",
       " ('Snape', ',', 'on', 'the', 'other'),\n",
       " (',', 'on', 'the', 'other', 'side'),\n",
       " ('on', 'the', 'other', 'side', ','),\n",
       " ('the', 'other', 'side', ',', 'is'),\n",
       " ('other', 'side', ',', 'is', 'extremely'),\n",
       " ('side', ',', 'is', 'extremely', 'carefull'),\n",
       " (',', 'is', 'extremely', 'carefull', 'about'),\n",
       " ('is', 'extremely', 'carefull', 'about', 'safety'),\n",
       " ('extremely', 'carefull', 'about', 'safety', 'at'),\n",
       " ('carefull', 'about', 'safety', 'at', 'his'),\n",
       " ('about', 'safety', 'at', 'his', 'classes'),\n",
       " ('safety', 'at', 'his', 'classes', '.'),\n",
       " ('at', 'his', 'classes', '.', 'which'),\n",
       " ('his', 'classes', '.', 'which', 'is'),\n",
       " ('classes', '.', 'which', 'is', 'one'),\n",
       " ('.', 'which', 'is', 'one', 'of'),\n",
       " ('which', 'is', 'one', 'of', 'the'),\n",
       " ('is', 'one', 'of', 'the', 'most'),\n",
       " ('one', 'of', 'the', 'most', 'important'),\n",
       " ('of', 'the', 'most', 'important', 'things'),\n",
       " ('the', 'most', 'important', 'things', 'and'),\n",
       " ('most', 'important', 'things', 'and', 'hagrid'),\n",
       " ('important', 'things', 'and', 'hagrid', '’'),\n",
       " ('things', 'and', 'hagrid', '’', 's'),\n",
       " ('and', 'hagrid', '’', 's', 'flaw'),\n",
       " ('hagrid', '’', 's', 'flaw', '.'),\n",
       " ('’', 's', 'flaw', '.', 'but'),\n",
       " ('s', 'flaw', '.', 'but', 'we'),\n",
       " ('flaw', '.', 'but', 'we', 'can'),\n",
       " ('.', 'but', 'we', 'can', '’'),\n",
       " ('but', 'we', 'can', '’', 't'),\n",
       " ('we', 'can', '’', 't', 'say'),\n",
       " ('can', '’', 't', 'say', 'that'),\n",
       " ('’', 't', 'say', 'that', 'he'),\n",
       " ('t', 'say', 'that', 'he', 'teaches'),\n",
       " ('say', 'that', 'he', 'teaches', '.'),\n",
       " ('that', 'he', 'teaches', '.', 'he'),\n",
       " ('he', 'teaches', '.', 'he', 'writes'),\n",
       " ('teaches', '.', 'he', 'writes', 'a'),\n",
       " ('.', 'he', 'writes', 'a', 'potion'),\n",
       " ('he', 'writes', 'a', 'potion', 'recipe'),\n",
       " ('writes', 'a', 'potion', 'recipe', 'and'),\n",
       " ('a', 'potion', 'recipe', 'and', 'barks'),\n",
       " ('potion', 'recipe', 'and', 'barks', 'for'),\n",
       " ('recipe', 'and', 'barks', 'for', 'the'),\n",
       " ('and', 'barks', 'for', 'the', 'students'),\n",
       " ('barks', 'for', 'the', 'students', 'to'),\n",
       " ('for', 'the', 'students', 'to', 'do'),\n",
       " ('the', 'students', 'to', 'do', 'it'),\n",
       " ('students', 'to', 'do', 'it', 'while'),\n",
       " ('to', 'do', 'it', 'while', 'he'),\n",
       " ('do', 'it', 'while', 'he', 'complains'),\n",
       " ('it', 'while', 'he', 'complains', 'about'),\n",
       " ('while', 'he', 'complains', 'about', 'how'),\n",
       " ('he', 'complains', 'about', 'how', 'useless'),\n",
       " ('complains', 'about', 'how', 'useless', 'the'),\n",
       " ('about', 'how', 'useless', 'the', 'students'),\n",
       " ('how', 'useless', 'the', 'students', 'are'),\n",
       " ('useless', 'the', 'students', 'are', 'and'),\n",
       " ('the', 'students', 'are', 'and', 'how'),\n",
       " ('students', 'are', 'and', 'how', 'many'),\n",
       " ('are', 'and', 'how', 'many', 'mistakes'),\n",
       " ('and', 'how', 'many', 'mistakes', 'they'),\n",
       " ('how', 'many', 'mistakes', 'they', 'make'),\n",
       " ('many', 'mistakes', 'they', 'make', '.'),\n",
       " ('mistakes', 'they', 'make', '.', 'I'),\n",
       " ('they', 'make', '.', 'I', 'have'),\n",
       " ('make', '.', 'I', 'have', 'never'),\n",
       " ('.', 'I', 'have', 'never', 'seen'),\n",
       " ('I', 'have', 'never', 'seen', 'Snape'),\n",
       " ('have', 'never', 'seen', 'Snape', 'warn'),\n",
       " ('never', 'seen', 'Snape', 'warn', 'a'),\n",
       " ('seen', 'Snape', 'warn', 'a', 'student'),\n",
       " ('Snape', 'warn', 'a', 'student', 'about'),\n",
       " ('warn', 'a', 'student', 'about', 'a'),\n",
       " ('a', 'student', 'about', 'a', 'mistake'),\n",
       " ('student', 'about', 'a', 'mistake', 'he'),\n",
       " ('about', 'a', 'mistake', 'he', 'was'),\n",
       " ('a', 'mistake', 'he', 'was', 'going'),\n",
       " ('mistake', 'he', 'was', 'going', 'to'),\n",
       " ('he', 'was', 'going', 'to', 'make'),\n",
       " ('was', 'going', 'to', 'make', 'or'),\n",
       " ('going', 'to', 'make', 'or', 'advice'),\n",
       " ('to', 'make', 'or', 'advice', 'how'),\n",
       " ('make', 'or', 'advice', 'how', 'to'),\n",
       " ('or', 'advice', 'how', 'to', 'correct'),\n",
       " ('advice', 'how', 'to', 'correct', 'a'),\n",
       " ('how', 'to', 'correct', 'a', 'mistake'),\n",
       " ('to', 'correct', 'a', 'mistake', 'so'),\n",
       " ('correct', 'a', 'mistake', 'so', 'the'),\n",
       " ('a', 'mistake', 'so', 'the', 'potion'),\n",
       " ('mistake', 'so', 'the', 'potion', 'improves'),\n",
       " ('so', 'the', 'potion', 'improves', '.'),\n",
       " ('the', 'potion', 'improves', '.', 'as'),\n",
       " ('potion', 'improves', '.', 'as', 'a'),\n",
       " ('improves', '.', 'as', 'a', 'potions'),\n",
       " ('.', 'as', 'a', 'potions', 'teacher'),\n",
       " ('as', 'a', 'potions', 'teacher', 'he'),\n",
       " ('a', 'potions', 'teacher', 'he', '’'),\n",
       " ('potions', 'teacher', 'he', '’', 's'),\n",
       " ('teacher', 'he', '’', 's', 'not'),\n",
       " ('he', '’', 's', 'not', 'much'),\n",
       " ('’', 's', 'not', 'much', 'better'),\n",
       " ('s', 'not', 'much', 'better', 'than'),\n",
       " ('not', 'much', 'better', 'than', 'Gilderoy'),\n",
       " ('much', 'better', 'than', 'Gilderoy', 'as'),\n",
       " ('better', 'than', 'Gilderoy', 'as', 'a'),\n",
       " ('than', 'Gilderoy', 'as', 'a', 'DA'),\n",
       " ('Gilderoy', 'as', 'a', 'DA', 'teacher'),\n",
       " ('as', 'a', 'DA', 'teacher', '.'),\n",
       " ('a', 'DA', 'teacher', '.', 'it'),\n",
       " ('DA', 'teacher', '.', 'it', '’'),\n",
       " ('teacher', '.', 'it', '’', 's'),\n",
       " ('.', 'it', '’', 's', 'better'),\n",
       " ('it', '’', 's', 'better', 'to'),\n",
       " ('’', 's', 'better', 'to', 'self-study'),\n",
       " ('s', 'better', 'to', 'self-study', 'than'),\n",
       " ('better', 'to', 'self-study', 'than', 'to'),\n",
       " ('to', 'self-study', 'than', 'to', 'attend'),\n",
       " ('self-study', 'than', 'to', 'attend', 'his'),\n",
       " ('than', 'to', 'attend', 'his', 'classes'),\n",
       " ('to', 'attend', 'his', 'classes', '.'),\n",
       " ('attend', 'his', 'classes', '.', 'I'),\n",
       " ('his', 'classes', '.', 'I', 'must'),\n",
       " ('classes', '.', 'I', 'must', 'acknowledge'),\n",
       " ('.', 'I', 'must', 'acknowledge', ','),\n",
       " ('I', 'must', 'acknowledge', ',', 'though'),\n",
       " ('must', 'acknowledge', ',', 'though', ','),\n",
       " ('acknowledge', ',', 'though', ',', 'that'),\n",
       " (',', 'though', ',', 'that', 'Severus'),\n",
       " ('though', ',', 'that', 'Severus', 'DA'),\n",
       " (',', 'that', 'Severus', 'DA', 'classes'),\n",
       " ('that', 'Severus', 'DA', 'classes', 'were'),\n",
       " ('Severus', 'DA', 'classes', 'were', 'acceptable'),\n",
       " ('DA', 'classes', 'were', 'acceptable', 'as'),\n",
       " ('classes', 'were', 'acceptable', 'as', 'far'),\n",
       " ('were', 'acceptable', 'as', 'far', 'as'),\n",
       " ('acceptable', 'as', 'far', 'as', 'we'),\n",
       " ('as', 'far', 'as', 'we', 'know'),\n",
       " ('far', 'as', 'we', 'know', '.'),\n",
       " ('as', 'we', 'know', '.', 'but'),\n",
       " ('we', 'know', '.', 'but', 'I'),\n",
       " ('know', '.', 'but', 'I', 'still'),\n",
       " ('.', 'but', 'I', 'still', 'feel'),\n",
       " ('but', 'I', 'still', 'feel', 'that'),\n",
       " ('I', 'still', 'feel', 'that', 'self-study'),\n",
       " ('still', 'feel', 'that', 'self-study', 'with'),\n",
       " ('feel', 'that', 'self-study', 'with', 'a'),\n",
       " ('that', 'self-study', 'with', 'a', 'proper'),\n",
       " ('self-study', 'with', 'a', 'proper', 'book'),\n",
       " ('with', 'a', 'proper', 'book', 'would'),\n",
       " ('a', 'proper', 'book', 'would', 'be'),\n",
       " ('proper', 'book', 'would', 'be', 'a'),\n",
       " ('book', 'would', 'be', 'a', 'better'),\n",
       " ('would', 'be', 'a', 'better', 'way'),\n",
       " ('be', 'a', 'better', 'way', 'to'),\n",
       " ('a', 'better', 'way', 'to', 'learn'),\n",
       " ('better', 'way', 'to', 'learn', 'than'),\n",
       " ('way', 'to', 'learn', 'than', 'attending'),\n",
       " ('to', 'learn', 'than', 'attending', 'his'),\n",
       " ('learn', 'than', 'attending', 'his', 'classes'),\n",
       " ('than', 'attending', 'his', 'classes', '.')]"
      ]
     },
     "execution_count": 31,
     "metadata": {},
     "output_type": "execute_result"
    }
   ],
   "source": [
    "hpNgrams"
   ]
  },
  {
   "cell_type": "code",
   "execution_count": 32,
   "id": "700cabb5",
   "metadata": {},
   "outputs": [],
   "source": [
    "from nltk.stem import PorterStemmer"
   ]
  },
  {
   "cell_type": "code",
   "execution_count": 33,
   "id": "0750dce0",
   "metadata": {},
   "outputs": [],
   "source": [
    "pst=PorterStemmer()"
   ]
  },
  {
   "cell_type": "code",
   "execution_count": 34,
   "id": "4964f9b6",
   "metadata": {},
   "outputs": [
    {
     "name": "stdout",
     "output_type": "stream",
     "text": [
      "given : given\n",
      "giving : give\n",
      "gave : gave\n",
      "give : give\n"
     ]
    }
   ],
   "source": [
    "stemWords=['given','giving','gave','give']\n",
    "for words in stemWords:\n",
    "    print(words+' : '+pst.stem(words))"
   ]
  },
  {
   "cell_type": "code",
   "execution_count": 35,
   "id": "a3253583",
   "metadata": {},
   "outputs": [],
   "source": [
    "from nltk.stem import LancasterStemmer"
   ]
  },
  {
   "cell_type": "code",
   "execution_count": 36,
   "id": "4c27501e",
   "metadata": {},
   "outputs": [],
   "source": [
    "lst=LancasterStemmer()"
   ]
  },
  {
   "cell_type": "code",
   "execution_count": 37,
   "id": "a5bd9b9c",
   "metadata": {},
   "outputs": [
    {
     "name": "stdout",
     "output_type": "stream",
     "text": [
      "given : giv\n",
      "giving : giv\n",
      "gave : gav\n",
      "give : giv\n"
     ]
    }
   ],
   "source": [
    "stemWords=['given','giving','gave','give']\n",
    "for words in stemWords:\n",
    "    print(words+' : '+lst.stem(words))"
   ]
  },
  {
   "cell_type": "markdown",
   "id": "cdb31d27",
   "metadata": {},
   "source": [
    "## Lancaster stemming is more aggressive than porter stemmer"
   ]
  },
  {
   "cell_type": "code",
   "execution_count": 38,
   "id": "0805ab86",
   "metadata": {},
   "outputs": [],
   "source": [
    "from nltk.stem import SnowballStemmer"
   ]
  },
  {
   "cell_type": "code",
   "execution_count": 39,
   "id": "99558caf",
   "metadata": {},
   "outputs": [],
   "source": [
    "snbl=SnowballStemmer('english')"
   ]
  },
  {
   "cell_type": "code",
   "execution_count": 40,
   "id": "f377097f",
   "metadata": {},
   "outputs": [
    {
     "name": "stdout",
     "output_type": "stream",
     "text": [
      "given : given\n",
      "giving : give\n",
      "gave : gave\n",
      "give : give\n"
     ]
    }
   ],
   "source": [
    "stemWords=['given','giving','gave','give']\n",
    "for words in stemWords:\n",
    "    print(words+' : '+snbl.stem(words))"
   ]
  },
  {
   "cell_type": "code",
   "execution_count": 41,
   "id": "ef29abf8",
   "metadata": {},
   "outputs": [],
   "source": [
    "from nltk.stem import wordnet\n",
    "from nltk.stem import WordNetLemmatizer"
   ]
  },
  {
   "cell_type": "code",
   "execution_count": 42,
   "id": "bc866e08",
   "metadata": {},
   "outputs": [],
   "source": [
    "wordLen=WordNetLemmatizer()"
   ]
  },
  {
   "cell_type": "code",
   "execution_count": 44,
   "id": "c3769672",
   "metadata": {},
   "outputs": [
    {
     "data": {
      "text/plain": [
       "'corpus'"
      ]
     },
     "execution_count": 44,
     "metadata": {},
     "output_type": "execute_result"
    }
   ],
   "source": [
    "wordLen.lemmatize('corpora')"
   ]
  },
  {
   "cell_type": "code",
   "execution_count": 45,
   "id": "3fca8f48",
   "metadata": {},
   "outputs": [],
   "source": [
    "from nltk.corpus import stopwords"
   ]
  },
  {
   "cell_type": "code",
   "execution_count": 46,
   "id": "8e10c0e5",
   "metadata": {},
   "outputs": [
    {
     "data": {
      "text/plain": [
       "['i',\n",
       " 'me',\n",
       " 'my',\n",
       " 'myself',\n",
       " 'we',\n",
       " 'our',\n",
       " 'ours',\n",
       " 'ourselves',\n",
       " 'you',\n",
       " \"you're\",\n",
       " \"you've\",\n",
       " \"you'll\",\n",
       " \"you'd\",\n",
       " 'your',\n",
       " 'yours',\n",
       " 'yourself',\n",
       " 'yourselves',\n",
       " 'he',\n",
       " 'him',\n",
       " 'his',\n",
       " 'himself',\n",
       " 'she',\n",
       " \"she's\",\n",
       " 'her',\n",
       " 'hers',\n",
       " 'herself',\n",
       " 'it',\n",
       " \"it's\",\n",
       " 'its',\n",
       " 'itself',\n",
       " 'they',\n",
       " 'them',\n",
       " 'their',\n",
       " 'theirs',\n",
       " 'themselves',\n",
       " 'what',\n",
       " 'which',\n",
       " 'who',\n",
       " 'whom',\n",
       " 'this',\n",
       " 'that',\n",
       " \"that'll\",\n",
       " 'these',\n",
       " 'those',\n",
       " 'am',\n",
       " 'is',\n",
       " 'are',\n",
       " 'was',\n",
       " 'were',\n",
       " 'be',\n",
       " 'been',\n",
       " 'being',\n",
       " 'have',\n",
       " 'has',\n",
       " 'had',\n",
       " 'having',\n",
       " 'do',\n",
       " 'does',\n",
       " 'did',\n",
       " 'doing',\n",
       " 'a',\n",
       " 'an',\n",
       " 'the',\n",
       " 'and',\n",
       " 'but',\n",
       " 'if',\n",
       " 'or',\n",
       " 'because',\n",
       " 'as',\n",
       " 'until',\n",
       " 'while',\n",
       " 'of',\n",
       " 'at',\n",
       " 'by',\n",
       " 'for',\n",
       " 'with',\n",
       " 'about',\n",
       " 'against',\n",
       " 'between',\n",
       " 'into',\n",
       " 'through',\n",
       " 'during',\n",
       " 'before',\n",
       " 'after',\n",
       " 'above',\n",
       " 'below',\n",
       " 'to',\n",
       " 'from',\n",
       " 'up',\n",
       " 'down',\n",
       " 'in',\n",
       " 'out',\n",
       " 'on',\n",
       " 'off',\n",
       " 'over',\n",
       " 'under',\n",
       " 'again',\n",
       " 'further',\n",
       " 'then',\n",
       " 'once',\n",
       " 'here',\n",
       " 'there',\n",
       " 'when',\n",
       " 'where',\n",
       " 'why',\n",
       " 'how',\n",
       " 'all',\n",
       " 'any',\n",
       " 'both',\n",
       " 'each',\n",
       " 'few',\n",
       " 'more',\n",
       " 'most',\n",
       " 'other',\n",
       " 'some',\n",
       " 'such',\n",
       " 'no',\n",
       " 'nor',\n",
       " 'not',\n",
       " 'only',\n",
       " 'own',\n",
       " 'same',\n",
       " 'so',\n",
       " 'than',\n",
       " 'too',\n",
       " 'very',\n",
       " 's',\n",
       " 't',\n",
       " 'can',\n",
       " 'will',\n",
       " 'just',\n",
       " 'don',\n",
       " \"don't\",\n",
       " 'should',\n",
       " \"should've\",\n",
       " 'now',\n",
       " 'd',\n",
       " 'll',\n",
       " 'm',\n",
       " 'o',\n",
       " 're',\n",
       " 've',\n",
       " 'y',\n",
       " 'ain',\n",
       " 'aren',\n",
       " \"aren't\",\n",
       " 'couldn',\n",
       " \"couldn't\",\n",
       " 'didn',\n",
       " \"didn't\",\n",
       " 'doesn',\n",
       " \"doesn't\",\n",
       " 'hadn',\n",
       " \"hadn't\",\n",
       " 'hasn',\n",
       " \"hasn't\",\n",
       " 'haven',\n",
       " \"haven't\",\n",
       " 'isn',\n",
       " \"isn't\",\n",
       " 'ma',\n",
       " 'mightn',\n",
       " \"mightn't\",\n",
       " 'mustn',\n",
       " \"mustn't\",\n",
       " 'needn',\n",
       " \"needn't\",\n",
       " 'shan',\n",
       " \"shan't\",\n",
       " 'shouldn',\n",
       " \"shouldn't\",\n",
       " 'wasn',\n",
       " \"wasn't\",\n",
       " 'weren',\n",
       " \"weren't\",\n",
       " 'won',\n",
       " \"won't\",\n",
       " 'wouldn',\n",
       " \"wouldn't\"]"
      ]
     },
     "execution_count": 46,
     "metadata": {},
     "output_type": "execute_result"
    }
   ],
   "source": [
    "stopwords.words('english')"
   ]
  },
  {
   "cell_type": "code",
   "execution_count": 48,
   "id": "eb067de9",
   "metadata": {},
   "outputs": [
    {
     "data": {
      "text/plain": [
       "179"
      ]
     },
     "execution_count": 48,
     "metadata": {},
     "output_type": "execute_result"
    }
   ],
   "source": [
    "len(stopwords.words('english'))"
   ]
  },
  {
   "cell_type": "code",
   "execution_count": 49,
   "id": "fcaeee99",
   "metadata": {},
   "outputs": [],
   "source": [
    "import re"
   ]
  },
  {
   "cell_type": "code",
   "execution_count": 50,
   "id": "23429032",
   "metadata": {},
   "outputs": [],
   "source": [
    "punctuation=re.compile(r'[-.?\\/;:()|0-9]')"
   ]
  },
  {
   "cell_type": "code",
   "execution_count": 51,
   "id": "07349b3a",
   "metadata": {},
   "outputs": [],
   "source": [
    "post_punctaution=[]\n",
    "for words in hpTokens:\n",
    "    word=punctuation.sub('',words)\n",
    "    if len(word)>0:\n",
    "        post_punctaution.append(word)"
   ]
  },
  {
   "cell_type": "code",
   "execution_count": 52,
   "id": "6d599c5c",
   "metadata": {},
   "outputs": [
    {
     "data": {
      "text/plain": [
       "['Hagrid',\n",
       " 'actually',\n",
       " 'teaches',\n",
       " 'interesting',\n",
       " 'things',\n",
       " 'about',\n",
       " 'interesting',\n",
       " 'creatures',\n",
       " 'and',\n",
       " 'it',\n",
       " '’',\n",
       " 's',\n",
       " 'care',\n",
       " 'about',\n",
       " 'magical',\n",
       " 'creatures',\n",
       " 'so',\n",
       " 'it',\n",
       " 'fits',\n",
       " 'nicelly',\n",
       " 'problem',\n",
       " 'is',\n",
       " 'that',\n",
       " 'he',\n",
       " 'doesn',\n",
       " '’',\n",
       " 't',\n",
       " 'takes',\n",
       " 'into',\n",
       " 'account',\n",
       " 'that',\n",
       " 'those',\n",
       " 'creatures',\n",
       " 'are',\n",
       " 'a',\n",
       " 'lot',\n",
       " 'more',\n",
       " 'dangerous',\n",
       " 'to',\n",
       " 'human',\n",
       " 'students',\n",
       " 'than',\n",
       " 'to',\n",
       " 'him',\n",
       " 'Snape',\n",
       " ',',\n",
       " 'on',\n",
       " 'the',\n",
       " 'other',\n",
       " 'side',\n",
       " ',',\n",
       " 'is',\n",
       " 'extremely',\n",
       " 'carefull',\n",
       " 'about',\n",
       " 'safety',\n",
       " 'at',\n",
       " 'his',\n",
       " 'classes',\n",
       " 'which',\n",
       " 'is',\n",
       " 'one',\n",
       " 'of',\n",
       " 'the',\n",
       " 'most',\n",
       " 'important',\n",
       " 'things',\n",
       " 'and',\n",
       " 'hagrid',\n",
       " '’',\n",
       " 's',\n",
       " 'flaw',\n",
       " 'but',\n",
       " 'we',\n",
       " 'can',\n",
       " '’',\n",
       " 't',\n",
       " 'say',\n",
       " 'that',\n",
       " 'he',\n",
       " 'teaches',\n",
       " 'he',\n",
       " 'writes',\n",
       " 'a',\n",
       " 'potion',\n",
       " 'recipe',\n",
       " 'and',\n",
       " 'barks',\n",
       " 'for',\n",
       " 'the',\n",
       " 'students',\n",
       " 'to',\n",
       " 'do',\n",
       " 'it',\n",
       " 'while',\n",
       " 'he',\n",
       " 'complains',\n",
       " 'about',\n",
       " 'how',\n",
       " 'useless',\n",
       " 'the',\n",
       " 'students',\n",
       " 'are',\n",
       " 'and',\n",
       " 'how',\n",
       " 'many',\n",
       " 'mistakes',\n",
       " 'they',\n",
       " 'make',\n",
       " 'I',\n",
       " 'have',\n",
       " 'never',\n",
       " 'seen',\n",
       " 'Snape',\n",
       " 'warn',\n",
       " 'a',\n",
       " 'student',\n",
       " 'about',\n",
       " 'a',\n",
       " 'mistake',\n",
       " 'he',\n",
       " 'was',\n",
       " 'going',\n",
       " 'to',\n",
       " 'make',\n",
       " 'or',\n",
       " 'advice',\n",
       " 'how',\n",
       " 'to',\n",
       " 'correct',\n",
       " 'a',\n",
       " 'mistake',\n",
       " 'so',\n",
       " 'the',\n",
       " 'potion',\n",
       " 'improves',\n",
       " 'as',\n",
       " 'a',\n",
       " 'potions',\n",
       " 'teacher',\n",
       " 'he',\n",
       " '’',\n",
       " 's',\n",
       " 'not',\n",
       " 'much',\n",
       " 'better',\n",
       " 'than',\n",
       " 'Gilderoy',\n",
       " 'as',\n",
       " 'a',\n",
       " 'DA',\n",
       " 'teacher',\n",
       " 'it',\n",
       " '’',\n",
       " 's',\n",
       " 'better',\n",
       " 'to',\n",
       " 'selfstudy',\n",
       " 'than',\n",
       " 'to',\n",
       " 'attend',\n",
       " 'his',\n",
       " 'classes',\n",
       " 'I',\n",
       " 'must',\n",
       " 'acknowledge',\n",
       " ',',\n",
       " 'though',\n",
       " ',',\n",
       " 'that',\n",
       " 'Severus',\n",
       " 'DA',\n",
       " 'classes',\n",
       " 'were',\n",
       " 'acceptable',\n",
       " 'as',\n",
       " 'far',\n",
       " 'as',\n",
       " 'we',\n",
       " 'know',\n",
       " 'but',\n",
       " 'I',\n",
       " 'still',\n",
       " 'feel',\n",
       " 'that',\n",
       " 'selfstudy',\n",
       " 'with',\n",
       " 'a',\n",
       " 'proper',\n",
       " 'book',\n",
       " 'would',\n",
       " 'be',\n",
       " 'a',\n",
       " 'better',\n",
       " 'way',\n",
       " 'to',\n",
       " 'learn',\n",
       " 'than',\n",
       " 'attending',\n",
       " 'his',\n",
       " 'classes']"
      ]
     },
     "execution_count": 52,
     "metadata": {},
     "output_type": "execute_result"
    }
   ],
   "source": [
    "post_punctaution"
   ]
  },
  {
   "cell_type": "code",
   "execution_count": 53,
   "id": "58bd6f1e",
   "metadata": {},
   "outputs": [],
   "source": [
    "sent='You can get everything in life you want if you will just help enough other people get what they want.'\n",
    "sentToken=word_tokenize(sent)"
   ]
  },
  {
   "cell_type": "code",
   "execution_count": 55,
   "id": "c1886490",
   "metadata": {},
   "outputs": [
    {
     "name": "stdout",
     "output_type": "stream",
     "text": [
      "[('You', 'PRP')]\n",
      "[('can', 'MD')]\n",
      "[('get', 'VB')]\n",
      "[('everything', 'NN')]\n",
      "[('in', 'IN')]\n",
      "[('life', 'NN')]\n",
      "[('you', 'PRP')]\n",
      "[('want', 'NN')]\n",
      "[('if', 'IN')]\n",
      "[('you', 'PRP')]\n",
      "[('will', 'MD')]\n",
      "[('just', 'RB')]\n",
      "[('help', 'NN')]\n",
      "[('enough', 'RB')]\n",
      "[('other', 'JJ')]\n",
      "[('people', 'NNS')]\n",
      "[('get', 'VB')]\n",
      "[('what', 'WP')]\n",
      "[('they', 'PRP')]\n",
      "[('want', 'NN')]\n",
      "[('.', '.')]\n"
     ]
    }
   ],
   "source": [
    "for token in sentToken:\n",
    "    print(nltk.pos_tag([token]))"
   ]
  },
  {
   "cell_type": "code",
   "execution_count": 56,
   "id": "c32d4f47",
   "metadata": {},
   "outputs": [],
   "source": [
    "from nltk import ne_chunk"
   ]
  },
  {
   "cell_type": "code",
   "execution_count": 57,
   "id": "4782c674",
   "metadata": {},
   "outputs": [],
   "source": [
    "Ne_sent='Pichai Sundararajan, better known as Sundar Pichai, is an Indian-born American business executive. He is the chief executive officer of Alphabet Inc. and its subsidiary Google.'"
   ]
  },
  {
   "cell_type": "code",
   "execution_count": 58,
   "id": "3712a8c3",
   "metadata": {},
   "outputs": [],
   "source": [
    "neTokens=word_tokenize(Ne_sent)"
   ]
  },
  {
   "cell_type": "code",
   "execution_count": 59,
   "id": "b3bd377f",
   "metadata": {},
   "outputs": [],
   "source": [
    "netags=nltk.pos_tag(neTokens)"
   ]
  },
  {
   "cell_type": "code",
   "execution_count": 60,
   "id": "a5978f44",
   "metadata": {},
   "outputs": [
    {
     "data": {
      "text/plain": [
       "[('Pichai', 'NNP'),\n",
       " ('Sundararajan', 'NNP'),\n",
       " (',', ','),\n",
       " ('better', 'RB'),\n",
       " ('known', 'VBN'),\n",
       " ('as', 'IN'),\n",
       " ('Sundar', 'NNP'),\n",
       " ('Pichai', 'NNP'),\n",
       " (',', ','),\n",
       " ('is', 'VBZ'),\n",
       " ('an', 'DT'),\n",
       " ('Indian-born', 'JJ'),\n",
       " ('American', 'JJ'),\n",
       " ('business', 'NN'),\n",
       " ('executive', 'NN'),\n",
       " ('.', '.'),\n",
       " ('He', 'PRP'),\n",
       " ('is', 'VBZ'),\n",
       " ('the', 'DT'),\n",
       " ('chief', 'JJ'),\n",
       " ('executive', 'JJ'),\n",
       " ('officer', 'NN'),\n",
       " ('of', 'IN'),\n",
       " ('Alphabet', 'NNP'),\n",
       " ('Inc.', 'NNP'),\n",
       " ('and', 'CC'),\n",
       " ('its', 'PRP$'),\n",
       " ('subsidiary', 'NN'),\n",
       " ('Google', 'NNP'),\n",
       " ('.', '.')]"
      ]
     },
     "execution_count": 60,
     "metadata": {},
     "output_type": "execute_result"
    }
   ],
   "source": [
    "netags"
   ]
  },
  {
   "cell_type": "code",
   "execution_count": null,
   "id": "3e792160",
   "metadata": {},
   "outputs": [],
   "source": []
  }
 ],
 "metadata": {
  "kernelspec": {
   "display_name": "Python 3 (ipykernel)",
   "language": "python",
   "name": "python3"
  },
  "language_info": {
   "codemirror_mode": {
    "name": "ipython",
    "version": 3
   },
   "file_extension": ".py",
   "mimetype": "text/x-python",
   "name": "python",
   "nbconvert_exporter": "python",
   "pygments_lexer": "ipython3",
   "version": "3.8.0"
  }
 },
 "nbformat": 4,
 "nbformat_minor": 5
}
